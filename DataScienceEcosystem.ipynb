{
 "cells": [
  {
   "cell_type": "markdown",
   "id": "6a7f60aa-5d0e-4811-b6a6-69bcf8d18034",
   "metadata": {},
   "source": [
    "<h1>Data Science Tools and Ecosystem</h1>"
   ]
  },
  {
   "cell_type": "markdown",
   "id": "79ef2b6d-a5a8-49e2-b045-0af81901c4d8",
   "metadata": {},
   "source": [
    "In this notebook, Data Science Tools and ecosystem are summarized."
   ]
  },
  {
   "cell_type": "markdown",
   "id": "b9b30733-d6e3-4a15-9d25-32ce46237851",
   "metadata": {},
   "source": [
    "<b>Objectives:</b>\n",
    "* List popular languages for data science\n",
    "* List data science tools\n",
    "* create a table of data science tools"
   ]
  },
  {
   "cell_type": "markdown",
   "id": "82642421-1161-4a45-854e-7c059ae1b115",
   "metadata": {},
   "source": [
    "Some of the popular languages that Data Scientists use are:\n",
    "1. Python\n",
    "2. SQL\n",
    "3. R"
   ]
  },
  {
   "cell_type": "markdown",
   "id": "49ff3496-d002-493c-8b87-946401df08a6",
   "metadata": {},
   "source": [
    "Some of the commonly used libraries used by Data Scientists include:\n",
    "1. NumPy\n",
    "2. Pandas\n",
    "3. Seaborn"
   ]
  },
  {
   "cell_type": "markdown",
   "id": "5f31e97b-92a9-4827-9131-a57e0f31ce0a",
   "metadata": {},
   "source": [
    "|Data Science Tools|   \n",
    "|:----------------:|\n",
    "|GitHub            |\n",
    "|Apache CouchDB    |\n",
    "|Apache Cassandra  |"
   ]
  },
  {
   "cell_type": "markdown",
   "id": "e370d0ce-89f9-41f3-b9c0-ed09b5287f4b",
   "metadata": {},
   "source": [
    "<h3>Below are a few examples of evaluating arithmetic expressions in Python</h3>"
   ]
  },
  {
   "cell_type": "code",
   "execution_count": 1,
   "id": "1ec232d5-4452-4e6f-b2b1-1a4890686ad6",
   "metadata": {},
   "outputs": [
    {
     "data": {
      "text/plain": [
       "17"
      ]
     },
     "execution_count": 1,
     "metadata": {},
     "output_type": "execute_result"
    }
   ],
   "source": [
    "#This is a simple arithmetic expression to multiply and add integers\n",
    "(3*4)+5"
   ]
  },
  {
   "cell_type": "code",
   "execution_count": 2,
   "id": "89569745-e88b-4830-8c71-12e76d52de5c",
   "metadata": {},
   "outputs": [
    {
     "data": {
      "text/plain": [
       "3.3333333333333335"
      ]
     },
     "execution_count": 2,
     "metadata": {},
     "output_type": "execute_result"
    }
   ],
   "source": [
    "#This will convert 200 minutes to hours by dividing by 60\n",
    "200/60"
   ]
  },
  {
   "cell_type": "markdown",
   "id": "ccd30109-a490-411e-9192-37a89206de2d",
   "metadata": {},
   "source": [
    "<h2>Author:</h2> Rishav Sarkar"
   ]
  }
 ],
 "metadata": {
  "kernelspec": {
   "display_name": "Python 3 (ipykernel)",
   "language": "python",
   "name": "python3"
  },
  "language_info": {
   "codemirror_mode": {
    "name": "ipython",
    "version": 3
   },
   "file_extension": ".py",
   "mimetype": "text/x-python",
   "name": "python",
   "nbconvert_exporter": "python",
   "pygments_lexer": "ipython3",
   "version": "3.11.5"
  }
 },
 "nbformat": 4,
 "nbformat_minor": 5
}
